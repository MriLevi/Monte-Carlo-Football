{
 "cells": [
  {
   "cell_type": "code",
   "execution_count": 1,
   "metadata": {},
   "outputs": [],
   "source": [
    "from mersenne_twister import Mersenne\n",
    "import pandas as pd\n",
    "import matplotlib.pyplot as plt\n",
    "import seaborn as sns\n",
    "import numpy as np\n",
    "from matplotlib.ticker import FuncFormatter"
   ]
  },
  {
   "cell_type": "markdown",
   "metadata": {},
   "source": [
    "<h1> Monte Carlo Voetbal simulatie </h1>\n",
    "<h3> Levi Verhoef, V2A, 2021, 1785902 </h3>\n",
    "\n",
    "In dit verslag ga ik op basis van een geleverde tabel van kansen een monte-carlo simulatie maken. Hieruit volgt een tabel met kansen voor elk team op een bepaalde plaatsing in het klassement.\n",
    "\n",
    "Voor het genereren van willekeurige nummers heb ik zelf een Mersenne Twister geimplementeerd, die te vinden is in mersenne_twister.py en in dit project geimporteerd wordt als \"Mersenne\""
   ]
  },
  {
   "cell_type": "markdown",
   "metadata": {},
   "source": [
    "Eerst beginnen we met een nested dictionary aanmaken van de onderlinge winkansen, genaamd team_odds. De buitenste laag keys is het hometeam, de binnenste laag keys is het awayteam, met als value winkans/gelijkspelkans/verlieskans, gezien vanuit het hometeam."
   ]
  },
  {
   "cell_type": "code",
   "execution_count": 2,
   "metadata": {},
   "outputs": [],
   "source": [
    "team_odds = {'Ajax': {'Ajax': None, 'Feyenoord': '30/21/49', 'PSV': '39/22/39', 'FC Utrecht': '25/14/61',\n",
    "                      'Willem II': '17/18/65'},\n",
    "             'Feyenoord': {'Ajax': '65/17/18', 'Feyenoord': None, 'PSV': '54/22/24', 'FC Utrecht': '37/23/40',\n",
    "                           'Willem II': '20/26/54'},\n",
    "             'PSV': {'Ajax': '54/21/25', 'Feyenoord': '37/24/39', 'PSV': None, 'FC Utrecht': '29/24/47',\n",
    "                     'Willem II': '23/24/53'},\n",
    "             'FC Utrecht': {'Ajax': '74/14/12', 'Feyenoord': '51/22/27', 'PSV': '62/20/18', 'FC Utrecht': None,\n",
    "                            'Willem II': '37/25/38'},\n",
    "             'Willem II': {'Ajax': '78/13/9', 'Feyenoord': '60/21/19', 'PSV': '62/22/16', 'FC Utrecht': '52/23/25',\n",
    "                           'Willem II': None}}"
   ]
  },
  {
   "cell_type": "markdown",
   "metadata": {},
   "source": [
    "Nu is het tijd voor de simulatie zelf. De mersenne twister die ik geimplementeerd heb werkt op basis van seeds, en zullen we dus per simulatie een andere seed moeten geven. Ik kies er hier ervoor om simpelweg de iteratie waar we in zitten als seed te gebruiken. De eerste simulatie heeft dus seed 1, de tweede seed 2, enzovoort.\n",
    "\n",
    "Er worden 20 wedstrijden gespeeld. Er zijn 5 teams die ieder thuis tegen 4 teams spelen, en uit tegen 4 teams spelen. We lopen door de thuisspelende teams heen, en door de teams tegen wie zij spelen. Per simulatie genereren we \"resultaten\", in de vorm van een lijst van getallen tussen de 1 en 101. Voor elke \"match\" pakken we de volgende waarde in de lijst van results, en vergelijken de gegeven kansen met het gegenereerde getal. \n",
    "\n",
    "Op basis van de puntenstanden genereren we vervolgens de eindstand, en als alle iteraties klaar zijn hebben we ons eindresultaat.\n",
    "\n",
    "Deze functie is overigens zo geprogrammeerd dat als er 8 teams in de team_odds zouden zitten, hij nog steeds werkt. "
   ]
  },
  {
   "cell_type": "code",
   "execution_count": 3,
   "metadata": {},
   "outputs": [],
   "source": [
    "def simulate_matches(iterations, odds_dict):\n",
    "    '''Does a monte carlo simulation of football matches, and saves the results in a dict of positions\n",
    "       iterations param is the amount of iterations, odds_dict is a nested dict of team names and their respective match odds'''\n",
    "    \n",
    "    #initialize the posdict, where we save the results of each simulation\n",
    "    posdict = {'Ajax': {'1st': 0, '2nd': 0, '3rd': 0, '4th': 0, '5th': 0},\n",
    "           'Feyenoord': {'1st': 0, '2nd': 0, '3rd': 0, '4th': 0, '5th': 0},\n",
    "           'PSV': {'1st': 0, '2nd': 0, '3rd': 0, '4th': 0, '5th': 0},\n",
    "           'FC Utrecht': {'1st': 0, '2nd': 0, '3rd': 0, '4th': 0, '5th': 0},\n",
    "           'Willem II': {'1st': 0, '2nd': 0, '3rd': 0, '4th': 0, '5th': 0}}\n",
    "    \n",
    "    #for each iteration of the simulation\n",
    "    for i in range(1, iterations+1):\n",
    "        rng = Mersenne(i) #generate rng based on current iteration count\n",
    "        matchcount = len(posdict.keys()) * (len(posdict.keys())-1)\n",
    "        results = iter([rng.randint(1, 101) for _ in range(matchcount+1)])  # generate random results based on how many teams this has\n",
    "        scores = {team:0 for team in odds_dict.keys()} #generate scoredict for saving scores\n",
    "        for awayteam, matchups in team_odds.items(): #loop outer layer\n",
    "            for hometeam, odds in matchups.items(): #loop inner layer of odds\n",
    "                if odds != None: #if the team plays itsself\n",
    "                    oddslist = list(map(int, odds.split('/'))) #convert the odds for this match to list of ints\n",
    "                    hometeamwin = oddslist[0] #extract the hometeam win chance\n",
    "                    draw = oddslist[0] + oddslist[1] #extract draw chance, loss chance is the rest\n",
    "                    result = next(results) #get the next result\n",
    "                    if result <= hometeamwin: #if the result is hometeam win\n",
    "                        scores[hometeam] += 3 #hometeam wins, 3 points\n",
    "                    elif hometeamwin < result <= draw: #if result is a draw\n",
    "                        scores[hometeam] += 1 #both teams score a point\n",
    "                        scores[awayteam] += 1\n",
    "                    else: #since we've checked 2 out of 3, rest is win awayteam\n",
    "                        scores[awayteam] += 3 #away team wins\n",
    "\n",
    "        sortedscores = sorted(scores, key=scores.get, reverse=True)[:5] #extract the placings\n",
    "        for index, item in enumerate(sortedscores):\n",
    "            posstr = ['1st', '2nd', '3rd', '4th', '5th'] #convert positions to strings\n",
    "            posdict[item][posstr[index]] += 1 #add the final positions to posdict\n",
    "    return posdict #result is a dictionary of counts at positions"
   ]
  },
  {
   "cell_type": "markdown",
   "metadata": {
    "pycharm": {
     "name": "#%% md\n"
    }
   },
   "source": [
    "Nu is het tijd om de simulatie daadwerkelijk uit te voeren. Ik heb hier gekozen voor 10000 simulaties. Dit duurt een kleine 30 seconden. 10000 samples geeft ons ruim voldoende data om een goed beeld te krijgen van hoe de competitie gemiddeld gezien zou verlopen. "
   ]
  },
  {
   "cell_type": "code",
   "execution_count": 4,
   "metadata": {},
   "outputs": [
    {
     "data": {
      "text/plain": [
       "{'Ajax': {'1st': 6164, '2nd': 2377, '3rd': 997, '4th': 370, '5th': 92},\n",
       " 'Feyenoord': {'1st': 1143, '2nd': 2545, '3rd': 3191, '4th': 2171, '5th': 950},\n",
       " 'PSV': {'1st': 2269, '2nd': 3586, '3rd': 2504, '4th': 1212, '5th': 429},\n",
       " 'FC Utrecht': {'1st': 339,\n",
       "  '2nd': 1082,\n",
       "  '3rd': 2204,\n",
       "  '4th': 3677,\n",
       "  '5th': 2698},\n",
       " 'Willem II': {'1st': 85, '2nd': 410, '3rd': 1104, '4th': 2570, '5th': 5831}}"
      ]
     },
     "execution_count": 4,
     "metadata": {},
     "output_type": "execute_result"
    }
   ],
   "source": [
    "iters = 10000\n",
    "simulation_result = simulate_matches(iters, team_odds)\n",
    "simulation_result"
   ]
  },
  {
   "cell_type": "markdown",
   "metadata": {
    "pycharm": {
     "name": "#%% md\n"
    }
   },
   "source": [
    "Als resultaat krijgen we nu nog deze vrij lelijke dictionary. Als we die omzetten naar een pandas dataframe kunnen we de visualisatie van de data krijgen die we graag willen. We delen hier de occurences per positie door de hoeveelheid iteraties wat ons een percentage geeft."
   ]
  },
  {
   "cell_type": "code",
   "execution_count": null,
   "outputs": [],
   "source": [
    "posdf = pd.DataFrame(simulation_result).transpose()\n",
    "posdf = ((posdf/iters)*100)\n",
    "posdf"
   ],
   "metadata": {
    "collapsed": false,
    "pycharm": {
     "name": "#%%\n"
    }
   }
  },
  {
   "cell_type": "markdown",
   "source": [
    "tot slot maken we hier, voor de mooi, met seaborn nog even een mooie heatmap van, dit maakt de data nog makkelijker te lezen, <i>and looks pretty!</i>"
   ],
   "metadata": {
    "collapsed": false
   }
  },
  {
   "cell_type": "code",
   "execution_count": null,
   "outputs": [],
   "source": [
    "ax = sns.heatmap(posdf, cmap='Blues', linewidths = 0.5, annot=True, cbar=False, fmt='.2f')\n",
    "for t in ax.texts: t.set_text(t.get_text() + \"%\")\n",
    "ax.xaxis.set_ticks_position('top')\n",
    "\n",
    "ax"
   ],
   "metadata": {
    "collapsed": false,
    "pycharm": {
     "name": "#%%\n"
    }
   }
  },
  {
   "cell_type": "markdown",
   "source": [
    "We kunnen hier zien dat de kans dat Ajax op de 1e plek eindigt (62%), erg dichtbij de kans ligt dat Willem II laatste wordt (58%). De kans dat Feyenoord tweede wordt is even groot als de kans dat PSV 3e wordt (25%), en PSV is na Ajax de ploeg die de hoogste kans heeft om eerste te worden (23%)."
   ],
   "metadata": {
    "collapsed": false
   }
  },
  {
   "cell_type": "code",
   "execution_count": 5,
   "metadata": {},
   "outputs": [
    {
     "data": {
      "text/html": [
       "<div>\n",
       "<style scoped>\n",
       "    .dataframe tbody tr th:only-of-type {\n",
       "        vertical-align: middle;\n",
       "    }\n",
       "\n",
       "    .dataframe tbody tr th {\n",
       "        vertical-align: top;\n",
       "    }\n",
       "\n",
       "    .dataframe thead th {\n",
       "        text-align: right;\n",
       "    }\n",
       "</style>\n",
       "<table border=\"1\" class=\"dataframe\">\n",
       "  <thead>\n",
       "    <tr style=\"text-align: right;\">\n",
       "      <th></th>\n",
       "      <th>1st</th>\n",
       "      <th>2nd</th>\n",
       "      <th>3rd</th>\n",
       "      <th>4th</th>\n",
       "      <th>5th</th>\n",
       "    </tr>\n",
       "  </thead>\n",
       "  <tbody>\n",
       "    <tr>\n",
       "      <th>Ajax</th>\n",
       "      <td>61.64</td>\n",
       "      <td>23.77</td>\n",
       "      <td>9.97</td>\n",
       "      <td>3.70</td>\n",
       "      <td>0.92</td>\n",
       "    </tr>\n",
       "    <tr>\n",
       "      <th>Feyenoord</th>\n",
       "      <td>11.43</td>\n",
       "      <td>25.45</td>\n",
       "      <td>31.91</td>\n",
       "      <td>21.71</td>\n",
       "      <td>9.50</td>\n",
       "    </tr>\n",
       "    <tr>\n",
       "      <th>PSV</th>\n",
       "      <td>22.69</td>\n",
       "      <td>35.86</td>\n",
       "      <td>25.04</td>\n",
       "      <td>12.12</td>\n",
       "      <td>4.29</td>\n",
       "    </tr>\n",
       "    <tr>\n",
       "      <th>FC Utrecht</th>\n",
       "      <td>3.39</td>\n",
       "      <td>10.82</td>\n",
       "      <td>22.04</td>\n",
       "      <td>36.77</td>\n",
       "      <td>26.98</td>\n",
       "    </tr>\n",
       "    <tr>\n",
       "      <th>Willem II</th>\n",
       "      <td>0.85</td>\n",
       "      <td>4.10</td>\n",
       "      <td>11.04</td>\n",
       "      <td>25.70</td>\n",
       "      <td>58.31</td>\n",
       "    </tr>\n",
       "  </tbody>\n",
       "</table>\n",
       "</div>"
      ],
      "text/plain": [
       "              1st    2nd    3rd    4th    5th\n",
       "Ajax        61.64  23.77   9.97   3.70   0.92\n",
       "Feyenoord   11.43  25.45  31.91  21.71   9.50\n",
       "PSV         22.69  35.86  25.04  12.12   4.29\n",
       "FC Utrecht   3.39  10.82  22.04  36.77  26.98\n",
       "Willem II    0.85   4.10  11.04  25.70  58.31"
      ]
     },
     "execution_count": 5,
     "metadata": {},
     "output_type": "execute_result"
    }
   ],
   "source": [
    "We kunnen hier zien dat de kans dat Ajax op de 1e plek eindigt (62%), erg dichtbij de kans ligt dat Willem II laatste wordt (58%). De kans dat Feyenoord tweede wordt is even groot als de kans dat PSV 3e wordt (25%), en PSV is na Ajax de ploeg die de hoogste kans heeft om eerste te worden (23%)."
   ]
  },
  {
   "cell_type": "markdown",
   "metadata": {},
   "source": [
    "tot slot maken we hier, voor de mooi, met seaborn nog even een mooie heatmap van, dit maakt de data nog makkelijker te lezen, <i>and looks pretty!</i>"
   ]
  },
  {
   "cell_type": "code",
   "execution_count": 6,
   "metadata": {},
   "outputs": [
    {
     "data": {
      "text/plain": [
       "<AxesSubplot:>"
      ]
     },
     "execution_count": 6,
     "metadata": {},
     "output_type": "execute_result"
    },
    {
     "data": {
      "image/png": "[encoded data removed]",
      "text/plain": [
       "<Figure size 432x288 with 1 Axes>"
      ]
     },
     "metadata": {
      "needs_background": "light"
     },
     "output_type": "display_data"
    }
   ],
   "source": [
    "ax = sns.heatmap(posdf, cmap='Blues', linewidths = 0.5, annot=True, cbar=False, fmt='.2f')\n",
    "for t in ax.texts: t.set_text(t.get_text() + \"%\")\n",
    "ax.xaxis.set_ticks_position('top')\n",
    "\n",
    "ax"
   ]
  },
  {
   "cell_type": "markdown",
   "metadata": {},
   "source": [
    "We kunnen hier zien dat de kans dat Ajax op de 1e plek eindigt (62%), erg dichtbij de kans ligt dat Willem II laatste wordt (58%). De kans dat Feyenoord tweede wordt is even groot als de kans dat PSV 3e wordt (25%), en PSV is na Ajax de ploeg die de hoogste kans heeft om eerste te worden (23%)."
   ]
  }
 ],
 "metadata": {
  "kernelspec": {
   "display_name": "Python 3 (ipykernel)",
   "language": "python",
   "name": "python3"
  },
  "language_info": {
   "codemirror_mode": {
    "name": "ipython",
    "version": 3
   },
   "file_extension": ".py",
   "mimetype": "text/x-python",
   "name": "python",
   "nbconvert_exporter": "python",
   "pygments_lexer": "ipython3",
   "version": "3.8.5"
  }
 },
 "nbformat": 4,
 "nbformat_minor": 1
}